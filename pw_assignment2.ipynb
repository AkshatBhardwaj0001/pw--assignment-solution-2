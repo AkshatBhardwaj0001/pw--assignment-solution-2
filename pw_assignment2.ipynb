{
 "cells": [
  {
   "cell_type": "code",
   "execution_count": 1,
   "id": "538b10ed-36fe-4214-a0e0-bd4ef98c3301",
   "metadata": {},
   "outputs": [],
   "source": [
    "#1.\n",
    "#there are basically tow methods in python to perform the comment task\n",
    "#1------ # (for the singel line comment)\n",
    "#2-------('''----'''):- used for the multiple line comments"
   ]
  },
  {
   "cell_type": "code",
   "execution_count": 2,
   "id": "2ade4e17-672d-40f6-8f61-791f2fa47d4a",
   "metadata": {},
   "outputs": [
    {
     "name": "stdout",
     "output_type": "stream",
     "text": [
      "45\n"
     ]
    }
   ],
   "source": [
    "#2.\n",
    "''' variables are just like the containers in the python which we used to store or assign the values in the python'''\n",
    "# declaration and assignment of the values:\n",
    "v=45\n",
    "print(v)"
   ]
  },
  {
   "cell_type": "code",
   "execution_count": 5,
   "id": "50a9c877-6c76-4b92-8a09-e32ed622ca12",
   "metadata": {},
   "outputs": [
    {
     "name": "stdout",
     "output_type": "stream",
     "text": [
      "123\n",
      "<class 'int'>\n"
     ]
    }
   ],
   "source": [
    "#3.\n",
    "a='123',''' now this time it is string'''\n",
    "a=int(a)\n",
    "print(int(a))\n",
    "print(type(a))"
   ]
  },
  {
   "cell_type": "code",
   "execution_count": 6,
   "id": "e331fa99-ea0d-4251-b124-0de896a6fd27",
   "metadata": {},
   "outputs": [
    {
     "data": {
      "text/plain": [
       "'suppose we saved a file in the music coloumn (the file name is project)'"
      ]
     },
     "execution_count": 6,
     "metadata": {},
     "output_type": "execute_result"
    }
   ],
   "source": [
    "#4.\n",
    "'''suppose we saved a file in the music coloumn (the file name is project)'''\n",
    "#1---- '''cd music'''\n",
    "#2-----'''cd project'''\n",
    "#3------'''python project.py'''"
   ]
  },
  {
   "cell_type": "code",
   "execution_count": 10,
   "id": "8ff43dd1-03f5-4e4c-b1c3-7af30443a7ab",
   "metadata": {},
   "outputs": [
    {
     "name": "stdout",
     "output_type": "stream",
     "text": [
      "[2, 3]\n"
     ]
    }
   ],
   "source": [
    "#5.\n",
    "my_list=[1,2,3,4,5]\n",
    "print(my_list[1:3])"
   ]
  },
  {
   "cell_type": "code",
   "execution_count": 12,
   "id": "e91c727f-2cdf-4cc6-a1c2-98630b09fd65",
   "metadata": {},
   "outputs": [],
   "source": [
    "#6.\n",
    "''' a complex number is a number which is the combination of the real and the imagnery number'''\n",
    "a=2+3j,#(''' in this variable a is the real number and the 3 is the imagnery number which is represented by the j and the whole combination is known as the complex number'''"
   ]
  },
  {
   "cell_type": "code",
   "execution_count": 13,
   "id": "6540a766-febc-4de8-8a79-03e9f3d3ee4b",
   "metadata": {},
   "outputs": [
    {
     "name": "stdout",
     "output_type": "stream",
     "text": [
      "25\n"
     ]
    }
   ],
   "source": [
    "#7.\n",
    "age=25\n",
    "print(25)"
   ]
  },
  {
   "cell_type": "code",
   "execution_count": 14,
   "id": "1c4c9d31-6646-462b-9409-3a1f31d8010f",
   "metadata": {},
   "outputs": [
    {
     "name": "stdout",
     "output_type": "stream",
     "text": [
      "9.99\n",
      "<class 'float'>\n"
     ]
    }
   ],
   "source": [
    "#8.\n",
    "price=9.99\n",
    "print(price)\n",
    "print(type(price))"
   ]
  },
  {
   "cell_type": "code",
   "execution_count": 15,
   "id": "fb45447c-8c84-457f-87f3-9e8a4e0bd164",
   "metadata": {},
   "outputs": [
    {
     "name": "stdout",
     "output_type": "stream",
     "text": [
      "akshat\n"
     ]
    }
   ],
   "source": [
    "#9.\n",
    "name=\"akshat\"\n",
    "print(name)"
   ]
  },
  {
   "cell_type": "code",
   "execution_count": 19,
   "id": "44f1c10c-d592-4cc1-804f-f12b93fe0443",
   "metadata": {},
   "outputs": [
    {
     "name": "stdout",
     "output_type": "stream",
     "text": [
      " World\n"
     ]
    }
   ],
   "source": [
    "#10.\n",
    "string=\"Hello, World!\"\n",
    "print(string[6:12 ])"
   ]
  },
  {
   "cell_type": "code",
   "execution_count": 20,
   "id": "c9d3c631-2f56-49df-ba80-e7da87d1f00b",
   "metadata": {},
   "outputs": [
    {
     "name": "stderr",
     "output_type": "stream",
     "text": [
      "<>:2: SyntaxWarning: 'bool' object is not callable; perhaps you missed a comma?\n",
      "<>:3: SyntaxWarning: 'bool' object is not callable; perhaps you missed a comma?\n",
      "<>:2: SyntaxWarning: 'bool' object is not callable; perhaps you missed a comma?\n",
      "<>:3: SyntaxWarning: 'bool' object is not callable; perhaps you missed a comma?\n",
      "C:\\Users\\Akshat\\AppData\\Local\\Temp\\ipykernel_4044\\3364981311.py:2: SyntaxWarning: 'bool' object is not callable; perhaps you missed a comma?\n",
      "  is_student=True(''' agar wo student ha toe''')\n"
     ]
    },
    {
     "ename": "TypeError",
     "evalue": "'bool' object is not callable",
     "output_type": "error",
     "traceback": [
      "\u001b[1;31m---------------------------------------------------------------------------\u001b[0m",
      "\u001b[1;31mTypeError\u001b[0m                                 Traceback (most recent call last)",
      "Cell \u001b[1;32mIn[20], line 2\u001b[0m\n\u001b[0;32m      1\u001b[0m \u001b[38;5;66;03m#11\u001b[39;00m\n\u001b[1;32m----> 2\u001b[0m is_student\u001b[38;5;241m=\u001b[39m\u001b[38;5;28;01mTrue\u001b[39;00m(\u001b[38;5;124m'''\u001b[39m\u001b[38;5;124m agar wo student ha toe\u001b[39m\u001b[38;5;124m'''\u001b[39m)\n\u001b[0;32m      3\u001b[0m is_student\u001b[38;5;241m=\u001b[39m\u001b[38;5;28;01mFalse\u001b[39;00m(\u001b[38;5;124m'''\u001b[39m\u001b[38;5;124magar wo student nahi ha toe\u001b[39m\u001b[38;5;124m'''\u001b[39m)\n",
      "\u001b[1;31mTypeError\u001b[0m: 'bool' object is not callable"
     ]
    }
   ],
   "source": [
    "#11\n",
    "is_student=True(''' agar wo student ha toe''')\n",
    "is_student=False('''agar wo student nahi ha toe''')"
   ]
  },
  {
   "cell_type": "code",
   "execution_count": null,
   "id": "16016d25-ac6c-45f8-834e-a816b599314a",
   "metadata": {},
   "outputs": [],
   "source": []
  }
 ],
 "metadata": {
  "kernelspec": {
   "display_name": "Python 3 (ipykernel)",
   "language": "python",
   "name": "python3"
  },
  "language_info": {
   "codemirror_mode": {
    "name": "ipython",
    "version": 3
   },
   "file_extension": ".py",
   "mimetype": "text/x-python",
   "name": "python",
   "nbconvert_exporter": "python",
   "pygments_lexer": "ipython3",
   "version": "3.11.7"
  }
 },
 "nbformat": 4,
 "nbformat_minor": 5
}
